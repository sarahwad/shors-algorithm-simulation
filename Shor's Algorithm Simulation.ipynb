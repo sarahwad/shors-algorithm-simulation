{
 "cells": [
  {
   "cell_type": "markdown",
   "id": "a82c7650",
   "metadata": {},
   "source": [
    "# Quantum Cryptography\n",
    "## Project Implementation: Design and implementation of the Ufa,N circuit of Shor Algorithm\n"
   ]
  },
  {
   "cell_type": "code",
   "execution_count": 1,
   "id": "d5c695fa",
   "metadata": {},
   "outputs": [],
   "source": [
    "import matplotlib.pyplot as plt\n",
    "import numpy as np\n",
    "from qiskit import QuantumCircuit, Aer, transpile, assemble\n",
    "from qiskit.visualization import plot_histogram\n",
    "import math\n",
    "from numpy.random import randint\n",
    "import pandas as pd\n",
    "from fractions import Fraction"
   ]
  },
  {
   "cell_type": "code",
   "execution_count": 15,
   "id": "921ba2c9",
   "metadata": {},
   "outputs": [],
   "source": [
    "def a_x_mod55(a,power):\n",
    "\n",
    "    \"\"\"Controlled multiplication by a mod 55\"\"\"\n",
    "    if a not in [2,4,7,8,13,42,47,48,51,53]:\n",
    "        raise ValueError(\"'a' must be 2,4,7,8,13,42,47,48,51,53\")\n",
    "    U = QuantumCircuit(6)        \n",
    "    for iteration in range(power):\n",
    "        if a in [2,53]: #done\n",
    "            U.swap(0,1)\n",
    "            U.swap(1,2)\n",
    "            U.swap(2,3)\n",
    "            U.swap(4,3)\n",
    "            U.swap(5,4)\n",
    "            #U.barrier()\n",
    "            \n",
    "        if a in [4,51]: #done\n",
    "            \n",
    "            U.swap(3,2)\n",
    "            U.swap(2,1)\n",
    "            U.swap(5,4)\n",
    "            U.swap(4,3)\n",
    "            #U.barrier()\n",
    "        \n",
    "        if a in [7,48]: #done\n",
    "            U.cx(3,0)\n",
    "            U.cx(4,1)\n",
    "            U.cx(5,4)\n",
    "            U.cx(5,3)\n",
    "            #U.barrier()\n",
    "            \n",
    "        if a in [8,47]: # done\n",
    "            U.cx(5,2)\n",
    "            U.x(5)\n",
    "            #U.barrier()\n",
    "\n",
    "        if a in [13,42]: # done\n",
    "            U.x(2)\n",
    "            #U.barrier()\n",
    "            U.swap(5,4)\n",
    "            U.swap(4,3)\n",
    "            #U.barrier()\n",
    "            U.cx(5,4)\n",
    "            #U.barrier()\n",
    "            U.x(5)\n",
    "            #U.barrier()\n",
    "\n",
    "    #return U.draw()\n",
    "    U = U.to_gate()\n",
    "    U.name = \"%i^%i mod 55\" % (a, power)\n",
    "    c_U = U.control()\n",
    "    return c_U\n",
    "\n",
    "#000100 4\n",
    "#001000 8\n",
    "#010000\n",
    "#000111 = 7\n",
    "#110001 = 49\n",
    "\n",
    "#000011 = 3\n",
    "#001001 = 9 \n",
    "\n",
    "#001101 13"
   ]
  },
  {
   "cell_type": "code",
   "execution_count": 7,
   "id": "9ff1caf0",
   "metadata": {},
   "outputs": [
    {
     "data": {
      "text/html": [
       "<pre style=\"word-wrap: normal;white-space: pre;background: #fff0;line-height: 1.1;font-family: &quot;Courier New&quot;,Courier,monospace\">                     ░                 ░ \n",
       "q_0: ─X──────────────░──X──────────────░─\n",
       "      │              ░  │              ░ \n",
       "q_1: ─X──X───────────░──X──X───────────░─\n",
       "         │           ░     │           ░ \n",
       "q_2: ────X──X────────░─────X──X────────░─\n",
       "            │        ░        │        ░ \n",
       "q_3: ───────X──X─────░────────X──X─────░─\n",
       "               │     ░           │     ░ \n",
       "q_4: ──────────X──X──░───────────X──X──░─\n",
       "                  │  ░              │  ░ \n",
       "q_5: ─────────────X──░──────────────X──░─\n",
       "                     ░                 ░ </pre>"
      ],
      "text/plain": [
       "                     ░                 ░ \n",
       "q_0: ─X──────────────░──X──────────────░─\n",
       "      │              ░  │              ░ \n",
       "q_1: ─X──X───────────░──X──X───────────░─\n",
       "         │           ░     │           ░ \n",
       "q_2: ────X──X────────░─────X──X────────░─\n",
       "            │        ░        │        ░ \n",
       "q_3: ───────X──X─────░────────X──X─────░─\n",
       "               │     ░           │     ░ \n",
       "q_4: ──────────X──X──░───────────X──X──░─\n",
       "                  │  ░              │  ░ \n",
       "q_5: ─────────────X──░──────────────X──░─\n",
       "                     ░                 ░ "
      ]
     },
     "execution_count": 7,
     "metadata": {},
     "output_type": "execute_result"
    }
   ],
   "source": [
    "a_x_mod55(2,2**1)"
   ]
  },
  {
   "cell_type": "code",
   "execution_count": 8,
   "id": "7c0f3355",
   "metadata": {},
   "outputs": [
    {
     "data": {
      "text/html": [
       "<pre style=\"word-wrap: normal;white-space: pre;background: #fff0;line-height: 1.1;font-family: &quot;Courier New&quot;,Courier,monospace\">            ░        ░ \n",
       "q_0: ───────░────────░─\n",
       "            ░        ░ \n",
       "q_1: ────X──░─────X──░─\n",
       "         │  ░     │  ░ \n",
       "q_2: ─X──X──░──X──X──░─\n",
       "      │     ░  │     ░ \n",
       "q_3: ─X──X──░──X──X──░─\n",
       "         │  ░     │  ░ \n",
       "q_4: ─X──X──░──X──X──░─\n",
       "      │     ░  │     ░ \n",
       "q_5: ─X─────░──X─────░─\n",
       "            ░        ░ </pre>"
      ],
      "text/plain": [
       "            ░        ░ \n",
       "q_0: ───────░────────░─\n",
       "            ░        ░ \n",
       "q_1: ────X──░─────X──░─\n",
       "         │  ░     │  ░ \n",
       "q_2: ─X──X──░──X──X──░─\n",
       "      │     ░  │     ░ \n",
       "q_3: ─X──X──░──X──X──░─\n",
       "         │  ░     │  ░ \n",
       "q_4: ─X──X──░──X──X──░─\n",
       "      │     ░  │     ░ \n",
       "q_5: ─X─────░──X─────░─\n",
       "            ░        ░ "
      ]
     },
     "execution_count": 8,
     "metadata": {},
     "output_type": "execute_result"
    }
   ],
   "source": [
    "a_x_mod55(4,2**1)"
   ]
  },
  {
   "cell_type": "code",
   "execution_count": 9,
   "id": "2bc66c20",
   "metadata": {},
   "outputs": [
    {
     "data": {
      "text/html": [
       "<pre style=\"word-wrap: normal;white-space: pre;background: #fff0;line-height: 1.1;font-family: &quot;Courier New&quot;,Courier,monospace\">     ┌───┐                ░ ┌───┐                ░ \n",
       "q_0: ┤ X ├────────────────░─┤ X ├────────────────░─\n",
       "     └─┬─┘┌───┐           ░ └─┬─┘┌───┐           ░ \n",
       "q_1: ──┼──┤ X ├───────────░───┼──┤ X ├───────────░─\n",
       "       │  └─┬─┘           ░   │  └─┬─┘           ░ \n",
       "q_2: ──┼────┼─────────────░───┼────┼─────────────░─\n",
       "       │    │       ┌───┐ ░   │    │       ┌───┐ ░ \n",
       "q_3: ──■────┼───────┤ X ├─░───■────┼───────┤ X ├─░─\n",
       "            │  ┌───┐└─┬─┘ ░        │  ┌───┐└─┬─┘ ░ \n",
       "q_4: ───────■──┤ X ├──┼───░────────■──┤ X ├──┼───░─\n",
       "               └─┬─┘  │   ░           └─┬─┘  │   ░ \n",
       "q_5: ────────────■────■───░─────────────■────■───░─\n",
       "                          ░                      ░ </pre>"
      ],
      "text/plain": [
       "     ┌───┐                ░ ┌───┐                ░ \n",
       "q_0: ┤ X ├────────────────░─┤ X ├────────────────░─\n",
       "     └─┬─┘┌───┐           ░ └─┬─┘┌───┐           ░ \n",
       "q_1: ──┼──┤ X ├───────────░───┼──┤ X ├───────────░─\n",
       "       │  └─┬─┘           ░   │  └─┬─┘           ░ \n",
       "q_2: ──┼────┼─────────────░───┼────┼─────────────░─\n",
       "       │    │       ┌───┐ ░   │    │       ┌───┐ ░ \n",
       "q_3: ──■────┼───────┤ X ├─░───■────┼───────┤ X ├─░─\n",
       "            │  ┌───┐└─┬─┘ ░        │  ┌───┐└─┬─┘ ░ \n",
       "q_4: ───────■──┤ X ├──┼───░────────■──┤ X ├──┼───░─\n",
       "               └─┬─┘  │   ░           └─┬─┘  │   ░ \n",
       "q_5: ────────────■────■───░─────────────■────■───░─\n",
       "                          ░                      ░ "
      ]
     },
     "execution_count": 9,
     "metadata": {},
     "output_type": "execute_result"
    }
   ],
   "source": [
    "a_x_mod55(7,2**1)"
   ]
  },
  {
   "cell_type": "code",
   "execution_count": 10,
   "id": "d3733e14",
   "metadata": {},
   "outputs": [
    {
     "data": {
      "text/html": [
       "<pre style=\"word-wrap: normal;white-space: pre;background: #fff0;line-height: 1.1;font-family: &quot;Courier New&quot;,Courier,monospace\">                ░            ░ \n",
       "q_0: ───────────░────────────░─\n",
       "                ░            ░ \n",
       "q_1: ───────────░────────────░─\n",
       "     ┌───┐      ░ ┌───┐      ░ \n",
       "q_2: ┤ X ├──────░─┤ X ├──────░─\n",
       "     └─┬─┘      ░ └─┬─┘      ░ \n",
       "q_3: ──┼────────░───┼────────░─\n",
       "       │        ░   │        ░ \n",
       "q_4: ──┼────────░───┼────────░─\n",
       "       │  ┌───┐ ░   │  ┌───┐ ░ \n",
       "q_5: ──■──┤ X ├─░───■──┤ X ├─░─\n",
       "          └───┘ ░      └───┘ ░ </pre>"
      ],
      "text/plain": [
       "                ░            ░ \n",
       "q_0: ───────────░────────────░─\n",
       "                ░            ░ \n",
       "q_1: ───────────░────────────░─\n",
       "     ┌───┐      ░ ┌───┐      ░ \n",
       "q_2: ┤ X ├──────░─┤ X ├──────░─\n",
       "     └─┬─┘      ░ └─┬─┘      ░ \n",
       "q_3: ──┼────────░───┼────────░─\n",
       "       │        ░   │        ░ \n",
       "q_4: ──┼────────░───┼────────░─\n",
       "       │  ┌───┐ ░   │  ┌───┐ ░ \n",
       "q_5: ──■──┤ X ├─░───■──┤ X ├─░─\n",
       "          └───┘ ░      └───┘ ░ "
      ]
     },
     "execution_count": 10,
     "metadata": {},
     "output_type": "execute_result"
    }
   ],
   "source": [
    "a_x_mod55(8,2**1)"
   ]
  },
  {
   "cell_type": "code",
   "execution_count": 13,
   "id": "84d47d68",
   "metadata": {},
   "outputs": [
    {
     "data": {
      "text/html": [
       "<pre style=\"word-wrap: normal;white-space: pre;background: #fff0;line-height: 1.1;font-family: &quot;Courier New&quot;,Courier,monospace\">           ░        ░       ░       ░       ░        ░       ░       ░ \n",
       "q_0: ──────░────────░───────░───────░───────░────────░───────░───────░─\n",
       "           ░        ░       ░       ░       ░        ░       ░       ░ \n",
       "q_1: ──────░────────░───────░───────░───────░────────░───────░───────░─\n",
       "     ┌───┐ ░        ░       ░       ░ ┌───┐ ░        ░       ░       ░ \n",
       "q_2: ┤ X ├─░────────░───────░───────░─┤ X ├─░────────░───────░───────░─\n",
       "     └───┘ ░        ░       ░       ░ └───┘ ░        ░       ░       ░ \n",
       "q_3: ──────░─────X──░───────░───────░───────░─────X──░───────░───────░─\n",
       "           ░     │  ░ ┌───┐ ░       ░       ░     │  ░ ┌───┐ ░       ░ \n",
       "q_4: ──────░──X──X──░─┤ X ├─░───────░───────░──X──X──░─┤ X ├─░───────░─\n",
       "           ░  │     ░ └─┬─┘ ░ ┌───┐ ░       ░  │     ░ └─┬─┘ ░ ┌───┐ ░ \n",
       "q_5: ──────░──X─────░───■───░─┤ X ├─░───────░──X─────░───■───░─┤ X ├─░─\n",
       "           ░        ░       ░ └───┘ ░       ░        ░       ░ └───┘ ░ </pre>"
      ],
      "text/plain": [
       "           ░        ░       ░       ░       ░        ░       ░       ░ \n",
       "q_0: ──────░────────░───────░───────░───────░────────░───────░───────░─\n",
       "           ░        ░       ░       ░       ░        ░       ░       ░ \n",
       "q_1: ──────░────────░───────░───────░───────░────────░───────░───────░─\n",
       "     ┌───┐ ░        ░       ░       ░ ┌───┐ ░        ░       ░       ░ \n",
       "q_2: ┤ X ├─░────────░───────░───────░─┤ X ├─░────────░───────░───────░─\n",
       "     └───┘ ░        ░       ░       ░ └───┘ ░        ░       ░       ░ \n",
       "q_3: ──────░─────X──░───────░───────░───────░─────X──░───────░───────░─\n",
       "           ░     │  ░ ┌───┐ ░       ░       ░     │  ░ ┌───┐ ░       ░ \n",
       "q_4: ──────░──X──X──░─┤ X ├─░───────░───────░──X──X──░─┤ X ├─░───────░─\n",
       "           ░  │     ░ └─┬─┘ ░ ┌───┐ ░       ░  │     ░ └─┬─┘ ░ ┌───┐ ░ \n",
       "q_5: ──────░──X─────░───■───░─┤ X ├─░───────░──X─────░───■───░─┤ X ├─░─\n",
       "           ░        ░       ░ └───┘ ░       ░        ░       ░ └───┘ ░ "
      ]
     },
     "execution_count": 13,
     "metadata": {},
     "output_type": "execute_result"
    }
   ],
   "source": [
    "a_x_mod55(13,2**1)"
   ]
  },
  {
   "cell_type": "code",
   "execution_count": 14,
   "id": "01ea26c5",
   "metadata": {},
   "outputs": [],
   "source": [
    "def qft_dagger(n):\n",
    "    \"\"\"n-qubit QFTdagger the first n qubits in circ\"\"\"\n",
    "    qc = QuantumCircuit(n)\n",
    "    # Don't forget the Swaps!\n",
    "    for qubit in range(n//2):\n",
    "        qc.swap(qubit, n-qubit-1)\n",
    "    for j in range(n):\n",
    "        for m in range(j):\n",
    "            qc.cp(-np.pi/float(2**(j-m)), m, j)\n",
    "        qc.h(j)\n",
    "    qc.name = \"QFT†\"\n",
    "    return qc"
   ]
  },
  {
   "cell_type": "code",
   "execution_count": 16,
   "id": "6e0c2948",
   "metadata": {},
   "outputs": [
    {
     "name": "stdout",
     "output_type": "stream",
     "text": [
      "N: 55\n",
      "qubits representing N:\n",
      "6\n",
      "qubits used in circuit:\n",
      "12\n"
     ]
    }
   ],
   "source": [
    "N = int(input('N: '))\n",
    "\n",
    "n = math.ceil(math.log(N,2))\n",
    "print(\"qubits representing N:\")\n",
    "print(n)\n",
    "n_count = 2*n\n",
    "print(\"qubits used in circuit:\")\n",
    "print(n_count)"
   ]
  },
  {
   "cell_type": "code",
   "execution_count": 17,
   "id": "34cfacca",
   "metadata": {},
   "outputs": [
    {
     "name": "stdout",
     "output_type": "stream",
     "text": [
      "a: 8\n"
     ]
    }
   ],
   "source": [
    "a = int(input('a: '))\n",
    "from math import gcd\n",
    "\n",
    "if gcd(a,N) == 1:\n",
    "    exit\n",
    "else:\n",
    "    print(\"gcd is not 1\")\n",
    "    a = int(input('a: '))"
   ]
  },
  {
   "cell_type": "code",
   "execution_count": 18,
   "id": "fcc6d90d",
   "metadata": {},
   "outputs": [
    {
     "data": {
      "text/html": [
       "<pre style=\"word-wrap: normal;white-space: pre;background: #fff0;line-height: 1.1;font-family: &quot;Courier New&quot;,Courier,monospace\">      ┌───┐                                                                                                                                                                                                   ┌────────┐┌─┐                                 \n",
       " q_0: ┤ H ├───────■───────────────────────────────────────────────────────────────────────────────────────────────────────────────────────────────────────────────────────────────────────────────────────────┤0       ├┤M├─────────────────────────────────\n",
       "      ├───┤       │                                                                                                                                                                                           │        │└╥┘┌─┐                              \n",
       " q_1: ┤ H ├───────┼──────────────■────────────────────────────────────────────────────────────────────────────────────────────────────────────────────────────────────────────────────────────────────────────┤1       ├─╫─┤M├──────────────────────────────\n",
       "      ├───┤       │              │                                                                                                                                                                            │        │ ║ └╥┘┌─┐                           \n",
       " q_2: ┤ H ├───────┼──────────────┼──────────────■─────────────────────────────────────────────────────────────────────────────────────────────────────────────────────────────────────────────────────────────┤2       ├─╫──╫─┤M├───────────────────────────\n",
       "      ├───┤       │              │              │                                                                                                                                                             │        │ ║  ║ └╥┘┌─┐                        \n",
       " q_3: ┤ H ├───────┼──────────────┼──────────────┼──────────────■──────────────────────────────────────────────────────────────────────────────────────────────────────────────────────────────────────────────┤3       ├─╫──╫──╫─┤M├────────────────────────\n",
       "      ├───┤       │              │              │              │                                                                                                                                              │        │ ║  ║  ║ └╥┘┌─┐                     \n",
       " q_4: ┤ H ├───────┼──────────────┼──────────────┼──────────────┼──────────────■───────────────────────────────────────────────────────────────────────────────────────────────────────────────────────────────┤4       ├─╫──╫──╫──╫─┤M├─────────────────────\n",
       "      ├───┤       │              │              │              │              │                                                                                                                               │        │ ║  ║  ║  ║ └╥┘┌─┐                  \n",
       " q_5: ┤ H ├───────┼──────────────┼──────────────┼──────────────┼──────────────┼───────────────■───────────────────────────────────────────────────────────────────────────────────────────────────────────────┤5       ├─╫──╫──╫──╫──╫─┤M├──────────────────\n",
       "      ├───┤       │              │              │              │              │               │                                                                                                               │   QFT† │ ║  ║  ║  ║  ║ └╥┘┌─┐               \n",
       " q_6: ┤ H ├───────┼──────────────┼──────────────┼──────────────┼──────────────┼───────────────┼───────────────■───────────────────────────────────────────────────────────────────────────────────────────────┤6       ├─╫──╫──╫──╫──╫──╫─┤M├───────────────\n",
       "      ├───┤       │              │              │              │              │               │               │                                                                                               │        │ ║  ║  ║  ║  ║  ║ └╥┘┌─┐            \n",
       " q_7: ┤ H ├───────┼──────────────┼──────────────┼──────────────┼──────────────┼───────────────┼───────────────┼────────────────■──────────────────────────────────────────────────────────────────────────────┤7       ├─╫──╫──╫──╫──╫──╫──╫─┤M├────────────\n",
       "      ├───┤       │              │              │              │              │               │               │                │                                                                              │        │ ║  ║  ║  ║  ║  ║  ║ └╥┘┌─┐         \n",
       " q_8: ┤ H ├───────┼──────────────┼──────────────┼──────────────┼──────────────┼───────────────┼───────────────┼────────────────┼────────────────■─────────────────────────────────────────────────────────────┤8       ├─╫──╫──╫──╫──╫──╫──╫──╫─┤M├─────────\n",
       "      ├───┤       │              │              │              │              │               │               │                │                │                                                             │        │ ║  ║  ║  ║  ║  ║  ║  ║ └╥┘┌─┐      \n",
       " q_9: ┤ H ├───────┼──────────────┼──────────────┼──────────────┼──────────────┼───────────────┼───────────────┼────────────────┼────────────────┼────────────────■────────────────────────────────────────────┤9       ├─╫──╫──╫──╫──╫──╫──╫──╫──╫─┤M├──────\n",
       "      ├───┤       │              │              │              │              │               │               │                │                │                │                                            │        │ ║  ║  ║  ║  ║  ║  ║  ║  ║ └╥┘┌─┐   \n",
       "q_10: ┤ H ├───────┼──────────────┼──────────────┼──────────────┼──────────────┼───────────────┼───────────────┼────────────────┼────────────────┼────────────────┼────────────────■───────────────────────────┤10      ├─╫──╫──╫──╫──╫──╫──╫──╫──╫──╫─┤M├───\n",
       "      ├───┤       │              │              │              │              │               │               │                │                │                │                │                           │        │ ║  ║  ║  ║  ║  ║  ║  ║  ║  ║ └╥┘┌─┐\n",
       "q_11: ┤ H ├───────┼──────────────┼──────────────┼──────────────┼──────────────┼───────────────┼───────────────┼────────────────┼────────────────┼────────────────┼────────────────┼─────────────────■─────────┤11      ├─╫──╫──╫──╫──╫──╫──╫──╫──╫──╫──╫─┤M├\n",
       "      └───┘┌──────┴──────┐┌──────┴──────┐┌──────┴──────┐┌──────┴──────┐┌──────┴───────┐┌──────┴───────┐┌──────┴───────┐┌───────┴───────┐┌───────┴───────┐┌───────┴───────┐┌───────┴────────┐┌───────┴────────┐└────────┘ ║  ║  ║  ║  ║  ║  ║  ║  ║  ║  ║ └╥┘\n",
       "q_12: ─────┤0            ├┤0            ├┤0            ├┤0            ├┤0             ├┤0             ├┤0             ├┤0              ├┤0              ├┤0              ├┤0               ├┤0               ├───────────╫──╫──╫──╫──╫──╫──╫──╫──╫──╫──╫──╫─\n",
       "           │             ││             ││             ││             ││              ││              ││              ││               ││               ││               ││                ││                │           ║  ║  ║  ║  ║  ║  ║  ║  ║  ║  ║  ║ \n",
       "q_13: ─────┤1            ├┤1            ├┤1            ├┤1            ├┤1             ├┤1             ├┤1             ├┤1              ├┤1              ├┤1              ├┤1               ├┤1               ├───────────╫──╫──╫──╫──╫──╫──╫──╫──╫──╫──╫──╫─\n",
       "           │             ││             ││             ││             ││              ││              ││              ││               ││               ││               ││                ││                │           ║  ║  ║  ║  ║  ║  ║  ║  ║  ║  ║  ║ \n",
       "q_14: ─────┤2            ├┤2            ├┤2            ├┤2            ├┤2             ├┤2             ├┤2             ├┤2              ├┤2              ├┤2              ├┤2               ├┤2               ├───────────╫──╫──╫──╫──╫──╫──╫──╫──╫──╫──╫──╫─\n",
       "           │  8^1 mod 55 ││  8^2 mod 55 ││  8^4 mod 55 ││  8^8 mod 55 ││  8^16 mod 55 ││  8^32 mod 55 ││  8^64 mod 55 ││  8^128 mod 55 ││  8^256 mod 55 ││  8^512 mod 55 ││  8^1024 mod 55 ││  8^2048 mod 55 │           ║  ║  ║  ║  ║  ║  ║  ║  ║  ║  ║  ║ \n",
       "q_15: ─────┤3            ├┤3            ├┤3            ├┤3            ├┤3             ├┤3             ├┤3             ├┤3              ├┤3              ├┤3              ├┤3               ├┤3               ├───────────╫──╫──╫──╫──╫──╫──╫──╫──╫──╫──╫──╫─\n",
       "           │             ││             ││             ││             ││              ││              ││              ││               ││               ││               ││                ││                │           ║  ║  ║  ║  ║  ║  ║  ║  ║  ║  ║  ║ \n",
       "q_16: ─────┤4            ├┤4            ├┤4            ├┤4            ├┤4             ├┤4             ├┤4             ├┤4              ├┤4              ├┤4              ├┤4               ├┤4               ├───────────╫──╫──╫──╫──╫──╫──╫──╫──╫──╫──╫──╫─\n",
       "      ┌───┐│             ││             ││             ││             ││              ││              ││              ││               ││               ││               ││                ││                │           ║  ║  ║  ║  ║  ║  ║  ║  ║  ║  ║  ║ \n",
       "q_17: ┤ X ├┤5            ├┤5            ├┤5            ├┤5            ├┤5             ├┤5             ├┤5             ├┤5              ├┤5              ├┤5              ├┤5               ├┤5               ├───────────╫──╫──╫──╫──╫──╫──╫──╫──╫──╫──╫──╫─\n",
       "      └───┘└─────────────┘└─────────────┘└─────────────┘└─────────────┘└──────────────┘└──────────────┘└──────────────┘└───────────────┘└───────────────┘└───────────────┘└────────────────┘└────────────────┘           ║  ║  ║  ║  ║  ║  ║  ║  ║  ║  ║  ║ \n",
       "c: 12/═══════════════════════════════════════════════════════════════════════════════════════════════════════════════════════════════════════════════════════════════════════════════════════════════════════════════════╩══╩══╩══╩══╩══╩══╩══╩══╩══╩══╩══╩═\n",
       "                                                                                                                                                                                                                         0  1  2  3  4  5  6  7  8  9  10 11</pre>"
      ],
      "text/plain": [
       "      ┌───┐                                                                                                                                                                                                   ┌────────┐┌─┐                                 \n",
       " q_0: ┤ H ├───────■───────────────────────────────────────────────────────────────────────────────────────────────────────────────────────────────────────────────────────────────────────────────────────────┤0       ├┤M├─────────────────────────────────\n",
       "      ├───┤       │                                                                                                                                                                                           │        │└╥┘┌─┐                              \n",
       " q_1: ┤ H ├───────┼──────────────■────────────────────────────────────────────────────────────────────────────────────────────────────────────────────────────────────────────────────────────────────────────┤1       ├─╫─┤M├──────────────────────────────\n",
       "      ├───┤       │              │                                                                                                                                                                            │        │ ║ └╥┘┌─┐                           \n",
       " q_2: ┤ H ├───────┼──────────────┼──────────────■─────────────────────────────────────────────────────────────────────────────────────────────────────────────────────────────────────────────────────────────┤2       ├─╫──╫─┤M├───────────────────────────\n",
       "      ├───┤       │              │              │                                                                                                                                                             │        │ ║  ║ └╥┘┌─┐                        \n",
       " q_3: ┤ H ├───────┼──────────────┼──────────────┼──────────────■──────────────────────────────────────────────────────────────────────────────────────────────────────────────────────────────────────────────┤3       ├─╫──╫──╫─┤M├────────────────────────\n",
       "      ├───┤       │              │              │              │                                                                                                                                              │        │ ║  ║  ║ └╥┘┌─┐                     \n",
       " q_4: ┤ H ├───────┼──────────────┼──────────────┼──────────────┼──────────────■───────────────────────────────────────────────────────────────────────────────────────────────────────────────────────────────┤4       ├─╫──╫──╫──╫─┤M├─────────────────────\n",
       "      ├───┤       │              │              │              │              │                                                                                                                               │        │ ║  ║  ║  ║ └╥┘┌─┐                  \n",
       " q_5: ┤ H ├───────┼──────────────┼──────────────┼──────────────┼──────────────┼───────────────■───────────────────────────────────────────────────────────────────────────────────────────────────────────────┤5       ├─╫──╫──╫──╫──╫─┤M├──────────────────\n",
       "      ├───┤       │              │              │              │              │               │                                                                                                               │   QFT† │ ║  ║  ║  ║  ║ └╥┘┌─┐               \n",
       " q_6: ┤ H ├───────┼──────────────┼──────────────┼──────────────┼──────────────┼───────────────┼───────────────■───────────────────────────────────────────────────────────────────────────────────────────────┤6       ├─╫──╫──╫──╫──╫──╫─┤M├───────────────\n",
       "      ├───┤       │              │              │              │              │               │               │                                                                                               │        │ ║  ║  ║  ║  ║  ║ └╥┘┌─┐            \n",
       " q_7: ┤ H ├───────┼──────────────┼──────────────┼──────────────┼──────────────┼───────────────┼───────────────┼────────────────■──────────────────────────────────────────────────────────────────────────────┤7       ├─╫──╫──╫──╫──╫──╫──╫─┤M├────────────\n",
       "      ├───┤       │              │              │              │              │               │               │                │                                                                              │        │ ║  ║  ║  ║  ║  ║  ║ └╥┘┌─┐         \n",
       " q_8: ┤ H ├───────┼──────────────┼──────────────┼──────────────┼──────────────┼───────────────┼───────────────┼────────────────┼────────────────■─────────────────────────────────────────────────────────────┤8       ├─╫──╫──╫──╫──╫──╫──╫──╫─┤M├─────────\n",
       "      ├───┤       │              │              │              │              │               │               │                │                │                                                             │        │ ║  ║  ║  ║  ║  ║  ║  ║ └╥┘┌─┐      \n",
       " q_9: ┤ H ├───────┼──────────────┼──────────────┼──────────────┼──────────────┼───────────────┼───────────────┼────────────────┼────────────────┼────────────────■────────────────────────────────────────────┤9       ├─╫──╫──╫──╫──╫──╫──╫──╫──╫─┤M├──────\n",
       "      ├───┤       │              │              │              │              │               │               │                │                │                │                                            │        │ ║  ║  ║  ║  ║  ║  ║  ║  ║ └╥┘┌─┐   \n",
       "q_10: ┤ H ├───────┼──────────────┼──────────────┼──────────────┼──────────────┼───────────────┼───────────────┼────────────────┼────────────────┼────────────────┼────────────────■───────────────────────────┤10      ├─╫──╫──╫──╫──╫──╫──╫──╫──╫──╫─┤M├───\n",
       "      ├───┤       │              │              │              │              │               │               │                │                │                │                │                           │        │ ║  ║  ║  ║  ║  ║  ║  ║  ║  ║ └╥┘┌─┐\n",
       "q_11: ┤ H ├───────┼──────────────┼──────────────┼──────────────┼──────────────┼───────────────┼───────────────┼────────────────┼────────────────┼────────────────┼────────────────┼─────────────────■─────────┤11      ├─╫──╫──╫──╫──╫──╫──╫──╫──╫──╫──╫─┤M├\n",
       "      └───┘┌──────┴──────┐┌──────┴──────┐┌──────┴──────┐┌──────┴──────┐┌──────┴───────┐┌──────┴───────┐┌──────┴───────┐┌───────┴───────┐┌───────┴───────┐┌───────┴───────┐┌───────┴────────┐┌───────┴────────┐└────────┘ ║  ║  ║  ║  ║  ║  ║  ║  ║  ║  ║ └╥┘\n",
       "q_12: ─────┤0            ├┤0            ├┤0            ├┤0            ├┤0             ├┤0             ├┤0             ├┤0              ├┤0              ├┤0              ├┤0               ├┤0               ├───────────╫──╫──╫──╫──╫──╫──╫──╫──╫──╫──╫──╫─\n",
       "           │             ││             ││             ││             ││              ││              ││              ││               ││               ││               ││                ││                │           ║  ║  ║  ║  ║  ║  ║  ║  ║  ║  ║  ║ \n",
       "q_13: ─────┤1            ├┤1            ├┤1            ├┤1            ├┤1             ├┤1             ├┤1             ├┤1              ├┤1              ├┤1              ├┤1               ├┤1               ├───────────╫──╫──╫──╫──╫──╫──╫──╫──╫──╫──╫──╫─\n",
       "           │             ││             ││             ││             ││              ││              ││              ││               ││               ││               ││                ││                │           ║  ║  ║  ║  ║  ║  ║  ║  ║  ║  ║  ║ \n",
       "q_14: ─────┤2            ├┤2            ├┤2            ├┤2            ├┤2             ├┤2             ├┤2             ├┤2              ├┤2              ├┤2              ├┤2               ├┤2               ├───────────╫──╫──╫──╫──╫──╫──╫──╫──╫──╫──╫──╫─\n",
       "           │  8^1 mod 55 ││  8^2 mod 55 ││  8^4 mod 55 ││  8^8 mod 55 ││  8^16 mod 55 ││  8^32 mod 55 ││  8^64 mod 55 ││  8^128 mod 55 ││  8^256 mod 55 ││  8^512 mod 55 ││  8^1024 mod 55 ││  8^2048 mod 55 │           ║  ║  ║  ║  ║  ║  ║  ║  ║  ║  ║  ║ \n",
       "q_15: ─────┤3            ├┤3            ├┤3            ├┤3            ├┤3             ├┤3             ├┤3             ├┤3              ├┤3              ├┤3              ├┤3               ├┤3               ├───────────╫──╫──╫──╫──╫──╫──╫──╫──╫──╫──╫──╫─\n",
       "           │             ││             ││             ││             ││              ││              ││              ││               ││               ││               ││                ││                │           ║  ║  ║  ║  ║  ║  ║  ║  ║  ║  ║  ║ \n",
       "q_16: ─────┤4            ├┤4            ├┤4            ├┤4            ├┤4             ├┤4             ├┤4             ├┤4              ├┤4              ├┤4              ├┤4               ├┤4               ├───────────╫──╫──╫──╫──╫──╫──╫──╫──╫──╫──╫──╫─\n",
       "      ┌───┐│             ││             ││             ││             ││              ││              ││              ││               ││               ││               ││                ││                │           ║  ║  ║  ║  ║  ║  ║  ║  ║  ║  ║  ║ \n",
       "q_17: ┤ X ├┤5            ├┤5            ├┤5            ├┤5            ├┤5             ├┤5             ├┤5             ├┤5              ├┤5              ├┤5              ├┤5               ├┤5               ├───────────╫──╫──╫──╫──╫──╫──╫──╫──╫──╫──╫──╫─\n",
       "      └───┘└─────────────┘└─────────────┘└─────────────┘└─────────────┘└──────────────┘└──────────────┘└──────────────┘└───────────────┘└───────────────┘└───────────────┘└────────────────┘└────────────────┘           ║  ║  ║  ║  ║  ║  ║  ║  ║  ║  ║  ║ \n",
       "c: 12/═══════════════════════════════════════════════════════════════════════════════════════════════════════════════════════════════════════════════════════════════════════════════════════════════════════════════════╩══╩══╩══╩══╩══╩══╩══╩══╩══╩══╩══╩═\n",
       "                                                                                                                                                                                                                         0  1  2  3  4  5  6  7  8  9  10 11"
      ]
     },
     "execution_count": 18,
     "metadata": {},
     "output_type": "execute_result"
    }
   ],
   "source": [
    "qc = QuantumCircuit(n_count + n, n_count)\n",
    "\n",
    "\n",
    "# apply H\n",
    "for q in range(n_count):\n",
    "    qc.h(q)\n",
    "    \n",
    "# And auxiliary register in state |1>\n",
    "qc.x((n-1)+n_count)\n",
    "\n",
    "# Do controlled-U operations\n",
    "for q in range(n_count):\n",
    "    qc.append(a_x_mod55(a,2**q), [q] + [i+n_count for i in range(n)])\n",
    "\n",
    "# Do inverse-QFT\n",
    "qc.append(qft_dagger(n_count), range(n_count))\n",
    "\n",
    "# Measure circuit\n",
    "qc.measure(range(n_count), range(n_count))\n",
    "qc.draw(fold=-1) "
   ]
  },
  {
   "cell_type": "code",
   "execution_count": 19,
   "id": "c0ebb979",
   "metadata": {},
   "outputs": [],
   "source": [
    "qasm_sim = Aer.get_backend('qasm_simulator')\n",
    "t_qc = transpile(qc, qasm_sim)\n",
    "qobj = assemble(t_qc)\n",
    "results = qasm_sim.run(qobj).result()\n",
    "counts = results.get_counts()"
   ]
  },
  {
   "cell_type": "code",
   "execution_count": 20,
   "id": "7c3a72de",
   "metadata": {},
   "outputs": [
    {
     "data": {
      "image/png": "[encoded data removed]",
      "text/plain": [
       "<Figure size 1296x864 with 1 Axes>"
      ]
     },
     "execution_count": 20,
     "metadata": {},
     "output_type": "execute_result"
    }
   ],
   "source": [
    "# each qubit\n",
    "plot_histogram(counts,figsize = (18,12))"
   ]
  },
  {
   "cell_type": "code",
   "execution_count": 21,
   "id": "1b506743",
   "metadata": {},
   "outputs": [
    {
     "name": "stdout",
     "output_type": "stream",
     "text": [
      "            Register Output             Phase Fraction  r\n",
      "0   000000000000 =   0(dec)     0/4096 = 0.00      0/1  1\n",
      "1  100000000000 = 2048(dec)  2048/4096 = 0.50      1/2  2\n",
      "2  110000000000 = 3072(dec)  3072/4096 = 0.75      3/4  4\n",
      "3  010000000000 = 1024(dec)  1024/4096 = 0.25      1/4  4\n"
     ]
    }
   ],
   "source": [
    "rows, measured_phases = [], []\n",
    "even=[]\n",
    "\n",
    "\n",
    "for output in counts:\n",
    "    decimal = int(output, 2)  # Convert (base 2) string to decimal\n",
    "    phase = decimal/(2**n_count)  # Find corresponding eigenvalue \n",
    "    measured_phases.append(phase)\n",
    "\n",
    "    frac = Fraction(phase).limit_denominator(N)\n",
    "\n",
    "\n",
    "    # Add these values to the rows in our table:\n",
    "    rows.append([f\"{output} = {decimal:>3}(dec)\", \n",
    "                 f\"{decimal}/{2**n_count} = {phase:.2f}\",\n",
    "                 f\"{frac.numerator}/{frac.denominator}\", frac.denominator])\n",
    "    if frac.denominator not in even:\n",
    "        if (frac.denominator)%2==0:\n",
    "            even.append(frac.denominator)\n",
    "\n",
    "headers=[\"Register Output\", \"Phase\", \"Fraction\", \"r\"]\n",
    "df = pd.DataFrame(rows, columns=headers)\n",
    "print(df)"
   ]
  },
  {
   "cell_type": "code",
   "execution_count": null,
   "id": "c9376c2d",
   "metadata": {},
   "outputs": [],
   "source": [
    "print(even)\n",
    "[2, 4]\n"
   ]
  }
 ],
 "metadata": {
  "kernelspec": {
   "display_name": "Python 3",
   "language": "python",
   "name": "python3"
  },
  "language_info": {
   "codemirror_mode": {
    "name": "ipython",
    "version": 3
   },
   "file_extension": ".py",
   "mimetype": "text/x-python",
   "name": "python",
   "nbconvert_exporter": "python",
   "pygments_lexer": "ipython3",
   "version": "3.7.10"
  }
 },
 "nbformat": 4,
 "nbformat_minor": 5
}
